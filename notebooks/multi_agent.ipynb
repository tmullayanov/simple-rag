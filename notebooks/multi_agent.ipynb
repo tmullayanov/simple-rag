{
 "cells": [
  {
   "cell_type": "code",
   "execution_count": null,
   "id": "74d7f33d",
   "metadata": {},
   "outputs": [
    {
     "data": {
      "text/plain": [
       "True"
      ]
     },
     "execution_count": 1,
     "metadata": {},
     "output_type": "execute_result"
    }
   ],
   "source": [
    "import os\n",
    "import dotenv\n",
    "\n",
    "dotenv.load_dotenv(override=True)\n",
    "\n",
    "# override input to mitigate jupyter's buffering\n",
    "\n",
    "import builtins\n",
    "\n",
    "def input(*args, **kwargs):\n",
    "    print(*args, end='', flush=True)\n",
    "    return builtins.input(*args, **kwargs)\n",
    "\n",
    "input.__doc__ = builtins.input.__doc__"
   ]
  },
  {
   "cell_type": "code",
   "execution_count": 3,
   "id": "ba18a2c9",
   "metadata": {},
   "outputs": [],
   "source": [
    "from langchain_groq import ChatGroq\n",
    "from typing_extensions import TypedDict\n",
    "from langchain.agents import tool, AgentExecutor\n",
    "from langgraph.prebuilt import create_react_agent\n",
    "\n",
    "model_name = 'qwen-qwq-32b'\n",
    "llm = ChatGroq(\n",
    "    model=model_name,\n",
    "    temperature=0.4,\n",
    "    max_tokens=None,\n",
    "    timeout=None,\n",
    "    max_retries=2,\n",
    "    # other params...\n",
    ")"
   ]
  },
  {
   "cell_type": "code",
   "execution_count": 5,
   "id": "83b09524",
   "metadata": {},
   "outputs": [],
   "source": [
    "class ProfileData(TypedDict):\n",
    "    name: str\n",
    "    age: int\n",
    "    genre: str\n",
    "    color: str\n",
    "    city: str"
   ]
  },
  {
   "cell_type": "code",
   "execution_count": 6,
   "id": "e28bcfb9",
   "metadata": {},
   "outputs": [],
   "source": [
    "profile_saved = False\n",
    "\n",
    "@tool\n",
    "def validate_name(name: str) -> str:\n",
    "    '''Функция для проверки имени. Имя должно звучать правдоподобно.\n",
    "    Это не должно быть нарицательным, названием географического объекта.\n",
    "    Оно должно быть написано на русском языке в именительном падеже единственного числа.'''\n",
    "    print(\"Вызываем тул для валидации имени\")\n",
    "    # игрушечная логика\n",
    "    if name in ['Ярополк', 'Василий', 'Александр', 'Петр']:\n",
    "        return 'Это корректное имя!'\n",
    "    return 'Это не корректное имя!'\n",
    "\n",
    "@tool\n",
    "def validate_city(city: str) -> str:\n",
    "    \"\"\"Проверяет, существует ли город с таким названием.\n",
    "    Если нет, то возвращает ошибку.\n",
    "    Если есть, то возвращает сообщение об успешной проверке.\n",
    "    \"\"\"\n",
    "    print(\"Вызываем тул для проверки существования города\")\n",
    "    # игрушечная логика\n",
    "    cities = [\"Москва\", \"Санкт-Петербург\", \"Казань\", \"Екатеринбург\", \"Новосибирск\", \"Владивосток\"]\n",
    "    if city not in cities:\n",
    "        return f\"❌ Ошибка: города с названием '{city}' не существует.\"\n",
    "    return f\"✅ Город '{city}' существует.\"\n",
    "\n",
    "@tool\n",
    "def save_profile(data: ProfileData) -> str:\n",
    "    \"\"\"Сохраняет профиль пользователя.\n",
    "    Профиль пользователя состоит из следующих полей:\n",
    "    - name: Имя\n",
    "    - age: Возраст - целое число больше нуля. Если пользователь ввёл строку или не число, то это неверный ответ. Например, 2.5 или \"-2\" - это не возраст.\n",
    "    - genre: Любимый жанр книг\n",
    "    - city: Любимый город\n",
    "    - color:Любимый цвет\n",
    "    \n",
    "    Возвращает сообщение об успешном сохранении профиля.\n",
    "    \"\"\"\n",
    "    global profile_saved\n",
    "    print(\"\\n✅ Все данные собраны:\")\n",
    "    for k, v in data.items():\n",
    "        print(f\"- {k}: {v}\")\n",
    "    profile_saved = True\n",
    "    return \"Профиль успешно сохранён.\""
   ]
  },
  {
   "cell_type": "code",
   "execution_count": null,
   "id": "1b2f36ee",
   "metadata": {},
   "outputs": [],
   "source": [
    "main_prompt = \"\"\"\n",
    "Ты - охотник за информацией пользователя, и твоя следующая и самая важная задача - собрать его профиль.\n",
    "Профиль состоит из следующих полей:\n",
    "- name: Имя - должно быть корректным. Воспользуйся помощником для валидации имени.\n",
    "- age: Возраст - целое число больше нуля. Если пользователь ввёл строку или не число, то это неверный ответ. Например, 2.5 или \"-2\" - это не возраст.\n",
    "- genre: Любимый жанр книг\n",
    "- city: Любимый город - город должен существовать. Воспользуйся помощником для проверки существования города.\n",
    "- color:Любимый цвет\n",
    "\n",
    "Для выяснения имени и любимого города воспользуйся помощниками.\n",
    "Задавай пользователю вопросы и запрашивай у него данные о его профиле.\n",
    "\n",
    "Когда все данные собраны, вызывай помощника для сохранения профиля.\n",
    "\"\"\"\n",
    "\n",
    "name_prompt = \"\"\"\n",
    "Ты - мастер по получению имени от пользователя. Задавай пользователю вопросы, пока не получишь правильное имя.\n",
    "\"\"\""
   ]
  }
 ],
 "metadata": {
  "kernelspec": {
   "display_name": ".venv",
   "language": "python",
   "name": "python3"
  },
  "language_info": {
   "codemirror_mode": {
    "name": "ipython",
    "version": 3
   },
   "file_extension": ".py",
   "mimetype": "text/x-python",
   "name": "python",
   "nbconvert_exporter": "python",
   "pygments_lexer": "ipython3",
   "version": "3.11.5"
  }
 },
 "nbformat": 4,
 "nbformat_minor": 5
}
