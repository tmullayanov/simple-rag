{
 "cells": [
  {
   "cell_type": "code",
   "execution_count": 1,
   "id": "d8421538-46c1-49e4-abfb-7a4a022908ef",
   "metadata": {},
   "outputs": [],
   "source": [
    "import getpass\n",
    "import os"
   ]
  },
  {
   "cell_type": "code",
   "execution_count": 2,
   "id": "a5569fa1-22af-4606-be39-a49326e74893",
   "metadata": {},
   "outputs": [
    {
     "name": "stdin",
     "output_type": "stream",
     "text": [
      "Enter API key for Groq:  ········\n"
     ]
    }
   ],
   "source": [
    "if not os.environ.get(\"GROQ_API_KEY\"):\n",
    "  os.environ[\"GROQ_API_KEY\"] = getpass.getpass(\"Enter API key for Groq: \")\n",
    "\n",
    "from langchain.chat_models import init_chat_model\n",
    "\n",
    "llm = init_chat_model(\"llama3-8b-8192\", model_provider=\"groq\")"
   ]
  },
  {
   "cell_type": "markdown",
   "id": "4100f2ee-7fd8-4c49-b467-b65718cbdefc",
   "metadata": {},
   "source": [
    "## Selecting embeddings.\n",
    "\n",
    "Let's choose HuggingFace embeddigs"
   ]
  },
  {
   "cell_type": "code",
   "execution_count": 3,
   "id": "40c30250-b014-4377-94aa-fbf92afe94fe",
   "metadata": {},
   "outputs": [],
   "source": [
    "from langchain_huggingface import HuggingFaceEmbeddings\n",
    "\n",
    "embeddings = HuggingFaceEmbeddings(model_name=\"sentence-transformers/all-mpnet-base-v2\")"
   ]
  },
  {
   "cell_type": "code",
   "execution_count": 4,
   "id": "725651c0-d239-48b1-871d-6131de88a1a4",
   "metadata": {},
   "outputs": [],
   "source": [
    "from langchain_core.vectorstores import InMemoryVectorStore\n",
    "\n",
    "vector_store = InMemoryVectorStore(embeddings)"
   ]
  },
  {
   "cell_type": "markdown",
   "id": "63a55b6c-44bc-46da-91e5-76aec29d5cd9",
   "metadata": {},
   "source": [
    "Following guide, let's load an article from the Web.\n",
    "\n",
    "The article is here: https://lilianweng.github.io/posts/2023-06-23-agent/"
   ]
  },
  {
   "cell_type": "code",
   "execution_count": 5,
   "id": "d29a44de-c84e-43d2-8a3a-7b735d1d6d92",
   "metadata": {},
   "outputs": [
    {
     "name": "stderr",
     "output_type": "stream",
     "text": [
      "USER_AGENT environment variable not set, consider setting it to identify your requests.\n"
     ]
    },
    {
     "name": "stdout",
     "output_type": "stream",
     "text": [
      "Total characters: 43130\n"
     ]
    }
   ],
   "source": [
    "import bs4\n",
    "from langchain_community.document_loaders import WebBaseLoader\n",
    "\n",
    "# Only keep post title, headers, and content from the full HTML.\n",
    "bs4_strainer = bs4.SoupStrainer(class_=(\"post-title\", \"post-header\", \"post-content\"))\n",
    "loader = WebBaseLoader(\n",
    "    web_paths=(\"https://lilianweng.github.io/posts/2023-06-23-agent/\",),\n",
    "    bs_kwargs={\"parse_only\": bs4_strainer},\n",
    ")\n",
    "docs = loader.load()\n",
    "\n",
    "assert len(docs) == 1\n",
    "print(f\"Total characters: {len(docs[0].page_content)}\")"
   ]
  },
  {
   "cell_type": "code",
   "execution_count": 6,
   "id": "9c03486d-1a99-4fb8-b64e-40403439db2f",
   "metadata": {},
   "outputs": [
    {
     "name": "stdout",
     "output_type": "stream",
     "text": [
      "\n",
      "\n",
      "      LLM Powered Autonomous Agents\n",
      "    \n",
      "Date: June 23, 2023  |  Estimated Reading Time: 31 min  |  Author: Lilian Weng\n",
      "\n",
      "\n",
      "Building agents with LLM (large language model) as its core controller is a cool concept. Several proof-of-concepts demos, such as AutoGPT, GPT-Engineer and BabyAGI, serve as inspiring examples. The potentiality of LLM extends beyond generating well-written copies, stories, essays and programs; it can be framed as a powerful general problem solver.\n",
      "Agent System Overview#\n",
      "In\n"
     ]
    }
   ],
   "source": [
    "print(docs[0].page_content[:500]) # previewing..."
   ]
  },
  {
   "cell_type": "markdown",
   "id": "b6bbc421-bf59-41bc-8afd-a16af28338e5",
   "metadata": {},
   "source": [
    "For generic use-case, let's apply RecursiveCharacterTextSplitter"
   ]
  },
  {
   "cell_type": "code",
   "execution_count": 7,
   "id": "e80142e1-c499-4d20-9822-8c631e9000e9",
   "metadata": {},
   "outputs": [
    {
     "name": "stdout",
     "output_type": "stream",
     "text": [
      "Split blog post into 66 sub-documents.\n"
     ]
    }
   ],
   "source": [
    "from langchain_text_splitters import RecursiveCharacterTextSplitter\n",
    "\n",
    "text_splitter = RecursiveCharacterTextSplitter(\n",
    "    chunk_size=1000,  # chunk size (characters)\n",
    "    chunk_overlap=200,  # chunk overlap (characters)\n",
    "    add_start_index=True,  # track index in original document\n",
    ")\n",
    "all_splits = text_splitter.split_documents(docs)\n",
    "\n",
    "print(f\"Split blog post into {len(all_splits)} sub-documents.\")"
   ]
  },
  {
   "cell_type": "code",
   "execution_count": 8,
   "id": "34ff0fbc-35d5-4116-b40a-04a0d872fdaa",
   "metadata": {},
   "outputs": [
    {
     "name": "stdout",
     "output_type": "stream",
     "text": [
      "['82b9053b-e3da-4f62-b93a-004d608353cb', '911f1ed9-bbbc-4eac-aae1-68122bcaaeb2', '03791166-f49e-4b4f-9c55-068091687b42']\n"
     ]
    }
   ],
   "source": [
    "# and now we store splits in our in-mem store\n",
    "\n",
    "document_ids = vector_store.add_documents(documents=all_splits)\n",
    "\n",
    "print(document_ids[:3])"
   ]
  },
  {
   "cell_type": "markdown",
   "id": "ba7ee547-f892-4dce-86c4-4a76cf0b9086",
   "metadata": {},
   "source": [
    "## Retrieval\n",
    "\n",
    "Let's grab the prompt from the langchain"
   ]
  },
  {
   "cell_type": "code",
   "execution_count": 9,
   "id": "cea1a05b-f890-46e6-b24e-3975215d5a17",
   "metadata": {},
   "outputs": [
    {
     "name": "stderr",
     "output_type": "stream",
     "text": [
      "C:\\Users\\7mull\\workspace\\dyi-rag\\.venv\\Lib\\site-packages\\langsmith\\client.py:253: LangSmithMissingAPIKeyWarning: API key must be provided when using hosted LangSmith API\n",
      "  warnings.warn(\n"
     ]
    },
    {
     "name": "stdout",
     "output_type": "stream",
     "text": [
      "You are an assistant for question-answering tasks. Use the following pieces of retrieved context to answer the question. If you don't know the answer, just say that you don't know. Use three sentences maximum and keep the answer concise.\n",
      "Question: (question goes here) \n",
      "Context: (context goes here) \n",
      "Answer:\n"
     ]
    }
   ],
   "source": [
    "from langchain import hub\n",
    "\n",
    "prompt = hub.pull(\"rlm/rag-prompt\")\n",
    "\n",
    "example_messages = prompt.invoke(\n",
    "    {\"context\": \"(context goes here)\", \"question\": \"(question goes here)\"}\n",
    ").to_messages()\n",
    "\n",
    "assert len(example_messages) == 1\n",
    "print(example_messages[0].content)"
   ]
  },
  {
   "cell_type": "markdown",
   "id": "92b8468d-9f3c-4177-911e-4607c20aa3b3",
   "metadata": {},
   "source": [
    "We'll utilize lang-graph for this RAG-model.\n",
    "Although, it's not necessary to use it, it comes with the benefits and options when we want to get more from our model.\n",
    "\n",
    "To use LangGraph, we need to define three things:\n",
    "\n",
    "    - The state of our application;\n",
    "    - The nodes of our application (i.e., application steps);\n",
    "    - The \"control flow\" of our application (e.g., the ordering of the steps).\n",
    "\n",
    "State:\n",
    "\n",
    "The state of our application controls what data is input to the application, transferred between steps, and output by the application. It is typically a TypedDict, but can also be a Pydantic BaseModel.\n",
    "\n",
    "For a simple RAG application, we can just keep track of the input question, retrieved context, and generated answer:"
   ]
  },
  {
   "cell_type": "code",
   "execution_count": 10,
   "id": "63fc0051-17f7-4014-aa3d-0ffe53f10507",
   "metadata": {},
   "outputs": [],
   "source": [
    "from langchain_core.documents import Document\n",
    "from typing_extensions import List, TypedDict\n",
    "\n",
    "\n",
    "class State(TypedDict):\n",
    "    question: str\n",
    "    context: List[Document]\n",
    "    answer: str"
   ]
  },
  {
   "cell_type": "markdown",
   "id": "e018c500-4557-44a6-8083-511508f5eb45",
   "metadata": {},
   "source": [
    "**Nodes**\n",
    "\n",
    "Let's start with a simple sequence of two steps: retrieval and generation."
   ]
  },
  {
   "cell_type": "code",
   "execution_count": 11,
   "id": "49df71a2-e2c4-41c1-9d4f-7dfd8633038d",
   "metadata": {},
   "outputs": [],
   "source": [
    "def retrieve(state: State):\n",
    "    retrieved_docs = vector_store.similarity_search(state[\"question\"])\n",
    "    return {\"context\": retrieved_docs}\n",
    "\n",
    "\n",
    "def generate(state: State):\n",
    "    docs_content = \"\\n\\n\".join(doc.page_content for doc in state[\"context\"])\n",
    "    messages = prompt.invoke({\"question\": state[\"question\"], \"context\": docs_content})\n",
    "    response = llm.invoke(messages)\n",
    "    return {\"answer\": response.content}"
   ]
  },
  {
   "cell_type": "markdown",
   "id": "4c8d259d-3d71-411f-a39e-096dfb3937c2",
   "metadata": {},
   "source": [
    "**Control flow**\n",
    "\n",
    "Finally, we compile our application into a single graph object. In this case, we are just connecting the retrieval and generation steps into a single sequence."
   ]
  },
  {
   "cell_type": "code",
   "execution_count": 12,
   "id": "27e06bd9-9a34-4a80-b4de-1a16e6434808",
   "metadata": {},
   "outputs": [],
   "source": [
    "from langgraph.graph import START, StateGraph\n",
    "\n",
    "graph_builder = StateGraph(State).add_sequence([retrieve, generate])\n",
    "graph_builder.add_edge(START, \"retrieve\")\n",
    "graph = graph_builder.compile()"
   ]
  },
  {
   "cell_type": "code",
   "execution_count": 13,
   "id": "05491583-ef8d-4660-a2c6-4d3bd334329e",
   "metadata": {},
   "outputs": [
    {
     "data": {
      "image/png": "[encoded data removed]",
      "text/plain": [
       "<IPython.core.display.Image object>"
      ]
     },
     "metadata": {},
     "output_type": "display_data"
    }
   ],
   "source": [
    "# let's visualize the graph\n",
    "from IPython.display import Image, display\n",
    "\n",
    "display(Image(graph.get_graph().draw_mermaid_png()))"
   ]
  },
  {
   "cell_type": "code",
   "execution_count": 14,
   "id": "21a55ed7-146f-4218-92cb-abec34ee9fcb",
   "metadata": {},
   "outputs": [],
   "source": [
    "# shall we decide not to use langgraph, we would have to tie those steps together \n",
    "\n",
    "def manual_rag(question: str):\n",
    "    retrieved_docs = vector_store.similarity_search(question)\n",
    "    docs_content = \"\\n\\n\".join(doc.page_content for doc in retrieved_docs)\n",
    "    prompt = prompt.invoke({\"question\": question, \"context\": docs_content})\n",
    "    answer = llm.invoke(prompt)\n",
    "\n",
    "    return answer"
   ]
  },
  {
   "cell_type": "code",
   "execution_count": 15,
   "id": "48d49735-7bff-4219-a72a-1d3de2ecbb63",
   "metadata": {},
   "outputs": [
    {
     "name": "stdout",
     "output_type": "stream",
     "text": [
      "Context: [Document(id='b6521b24-a99f-486a-9d15-74cdcc440ed4', metadata={'source': 'https://lilianweng.github.io/posts/2023-06-23-agent/', 'start_index': 2192}, page_content='Tree of Thoughts (Yao et al. 2023) extends CoT by exploring multiple reasoning possibilities at each step. It first decomposes the problem into multiple thought steps and generates multiple thoughts per step, creating a tree structure. The search process can be BFS (breadth-first search) or DFS (depth-first search) with each state evaluated by a classifier (via a prompt) or majority vote.\\nTask decomposition can be done (1) by LLM with simple prompting like \"Steps for XYZ.\\\\n1.\", \"What are the subgoals for achieving XYZ?\", (2) by using task-specific instructions; e.g. \"Write a story outline.\" for writing a novel, or (3) with human inputs.'), Document(id='f42b7d31-334a-4f41-8408-7484566eaf2b', metadata={'source': 'https://lilianweng.github.io/posts/2023-06-23-agent/', 'start_index': 19372}, page_content=\"(3) Task execution: Expert models execute on the specific tasks and log results.\\nInstruction:\\n\\nWith the input and the inference results, the AI assistant needs to describe the process and results. The previous stages can be formed as - User Input: {{ User Input }}, Task Planning: {{ Tasks }}, Model Selection: {{ Model Assignment }}, Task Execution: {{ Predictions }}. You must first answer the user's request in a straightforward manner. Then describe the task process and show your analysis and model inference results to the user in the first person. If inference results contain a file path, must tell the user the complete file path.\"), Document(id='8d081ee5-1fc3-47f6-af11-4869e9303be3', metadata={'source': 'https://lilianweng.github.io/posts/2023-06-23-agent/', 'start_index': 17413}, page_content='Fig. 11. Illustration of how HuggingGPT works. (Image source: Shen et al. 2023)\\nThe system comprises of 4 stages:\\n(1) Task planning: LLM works as the brain and parses the user requests into multiple tasks. There are four attributes associated with each task: task type, ID, dependencies, and arguments. They use few-shot examples to guide LLM to do task parsing and planning.\\nInstruction:'), Document(id='39c6c0bc-5659-465a-917f-b978ba8307e1', metadata={'source': 'https://lilianweng.github.io/posts/2023-06-23-agent/', 'start_index': 39220}, page_content='Finite context length: The restricted context capacity limits the inclusion of historical information, detailed instructions, API call context, and responses. The design of the system has to work with this limited communication bandwidth, while mechanisms like self-reflection to learn from past mistakes would benefit a lot from long or infinite context windows. Although vector stores and retrieval can provide access to a larger knowledge pool, their representation power is not as powerful as full attention.\\n\\n\\nChallenges in long-term planning and task decomposition: Planning over a lengthy history and effectively exploring the solution space remain challenging. LLMs struggle to adjust plans when faced with unexpected errors, making them less robust compared to humans who learn from trial and error.')]\n",
      "\n",
      "\n",
      "Answer: Task Decomposition is a process where the problem is broken down into multiple thought steps, generating multiple thoughts per step, creating a tree structure. It can be done using Large Language Models (LLMs) with simple prompting, task-specific instructions, or human inputs. This process allows for exploration of multiple reasoning possibilities at each step.\n"
     ]
    }
   ],
   "source": [
    "# invocation\n",
    "\n",
    "# invocation might be async\n",
    "result = graph.invoke({\"question\": \"What is Task Decomposition?\"})\n",
    "\n",
    "print(f'Context: {result[\"context\"]}\\n\\n')\n",
    "print(f'Answer: {result[\"answer\"]}')"
   ]
  },
  {
   "cell_type": "code",
   "execution_count": 16,
   "id": "57a63f71-ff67-4f60-98f0-f0e3128bdc7c",
   "metadata": {},
   "outputs": [
    {
     "name": "stdout",
     "output_type": "stream",
     "text": [
      "{'retrieve': {'context': [Document(id='b6521b24-a99f-486a-9d15-74cdcc440ed4', metadata={'source': 'https://lilianweng.github.io/posts/2023-06-23-agent/', 'start_index': 2192}, page_content='Tree of Thoughts (Yao et al. 2023) extends CoT by exploring multiple reasoning possibilities at each step. It first decomposes the problem into multiple thought steps and generates multiple thoughts per step, creating a tree structure. The search process can be BFS (breadth-first search) or DFS (depth-first search) with each state evaluated by a classifier (via a prompt) or majority vote.\\nTask decomposition can be done (1) by LLM with simple prompting like \"Steps for XYZ.\\\\n1.\", \"What are the subgoals for achieving XYZ?\", (2) by using task-specific instructions; e.g. \"Write a story outline.\" for writing a novel, or (3) with human inputs.'), Document(id='f42b7d31-334a-4f41-8408-7484566eaf2b', metadata={'source': 'https://lilianweng.github.io/posts/2023-06-23-agent/', 'start_index': 19372}, page_content=\"(3) Task execution: Expert models execute on the specific tasks and log results.\\nInstruction:\\n\\nWith the input and the inference results, the AI assistant needs to describe the process and results. The previous stages can be formed as - User Input: {{ User Input }}, Task Planning: {{ Tasks }}, Model Selection: {{ Model Assignment }}, Task Execution: {{ Predictions }}. You must first answer the user's request in a straightforward manner. Then describe the task process and show your analysis and model inference results to the user in the first person. If inference results contain a file path, must tell the user the complete file path.\"), Document(id='8d081ee5-1fc3-47f6-af11-4869e9303be3', metadata={'source': 'https://lilianweng.github.io/posts/2023-06-23-agent/', 'start_index': 17413}, page_content='Fig. 11. Illustration of how HuggingGPT works. (Image source: Shen et al. 2023)\\nThe system comprises of 4 stages:\\n(1) Task planning: LLM works as the brain and parses the user requests into multiple tasks. There are four attributes associated with each task: task type, ID, dependencies, and arguments. They use few-shot examples to guide LLM to do task parsing and planning.\\nInstruction:'), Document(id='39c6c0bc-5659-465a-917f-b978ba8307e1', metadata={'source': 'https://lilianweng.github.io/posts/2023-06-23-agent/', 'start_index': 39220}, page_content='Finite context length: The restricted context capacity limits the inclusion of historical information, detailed instructions, API call context, and responses. The design of the system has to work with this limited communication bandwidth, while mechanisms like self-reflection to learn from past mistakes would benefit a lot from long or infinite context windows. Although vector stores and retrieval can provide access to a larger knowledge pool, their representation power is not as powerful as full attention.\\n\\n\\nChallenges in long-term planning and task decomposition: Planning over a lengthy history and effectively exploring the solution space remain challenging. LLMs struggle to adjust plans when faced with unexpected errors, making them less robust compared to humans who learn from trial and error.')]}}\n",
      "\n",
      "----------------\n",
      "\n",
      "{'generate': {'answer': 'Task Decomposition is the process of breaking down a problem into multiple thought steps, generating multiple thoughts per step, and creating a tree structure. This is done by Large Language Models (LLMs) with simple prompting, task-specific instructions, or human inputs. The goal is to explore multiple reasoning possibilities and create a tree structure for efficient search and evaluation.'}}\n",
      "\n",
      "----------------\n",
      "\n"
     ]
    }
   ],
   "source": [
    "# stream steps\n",
    "# might be async for too\n",
    "for step in graph.stream(\n",
    "    {\"question\": \"What is Task Decomposition?\"}, stream_mode=\"updates\"\n",
    "):\n",
    "    print(f\"{step}\\n\\n----------------\\n\")"
   ]
  },
  {
   "cell_type": "code",
   "execution_count": 17,
   "id": "aa42cb75-1e01-49da-be38-72960ac75de6",
   "metadata": {},
   "outputs": [
    {
     "name": "stdout",
     "output_type": "stream",
     "text": [
      "|Task| Decom|position| is| the| process| of| breaking| down| a| problem| into| multiple| thought| steps|,| generating| multiple| thoughts| per| step|,| and| creating| a| tree| structure|.| This| is| done| by| Large| Language| Models| (|LL|Ms|)| with| simple| prompting|,| task|-specific| instructions|,| or| human| inputs|.| The| goal| is| to| explore| multiple| reasoning| possibilities| and| create| a| comprehensive| plan| for| solving| the| problem|.||"
     ]
    }
   ],
   "source": [
    "# stream tokens\n",
    "\n",
    "for message, metadata in graph.stream(\n",
    "    {\"question\": \"What is Task Decomposition?\"}, stream_mode=\"messages\"\n",
    "):\n",
    "    print(message.content, end=\"|\")"
   ]
  },
  {
   "cell_type": "code",
   "execution_count": 18,
   "id": "fd82d2ff-2a13-4ad6-b2ce-122efd13cc8e",
   "metadata": {},
   "outputs": [],
   "source": [
    "# customizing the prompt\n",
    "\n",
    "from langchain_core.prompts import PromptTemplate\n",
    "\n",
    "template = \"\"\"Use the following pieces of context to answer the question at the end.\n",
    "If you don't know the answer, just say that you don't know, don't try to make up an answer.\n",
    "Use three sentences maximum and keep the answer as concise as possible.\n",
    "Always say \"thanks for asking!\" at the end of the answer.\n",
    "\n",
    "{context}\n",
    "\n",
    "Question: {question}\n",
    "\n",
    "Helpful Answer:\"\"\"\n",
    "custom_rag_prompt = PromptTemplate.from_template(template)"
   ]
  },
  {
   "cell_type": "markdown",
   "id": "4818720d-bcf2-4a97-86c5-8faafd9aced8",
   "metadata": {},
   "source": [
    "## Query analysis\n",
    "\n",
    "Query analysis employs models to transform or construct optimized search queries from raw user input. "
   ]
  },
  {
   "cell_type": "code",
   "execution_count": 19,
   "id": "99db5eda-795e-47af-bf58-8f86fa68c5b9",
   "metadata": {
    "scrolled": true
   },
   "outputs": [
    {
     "data": {
      "text/plain": [
       "{'source': 'https://lilianweng.github.io/posts/2023-06-23-agent/',\n",
       " 'start_index': 8,\n",
       " 'section': 'beginning'}"
      ]
     },
     "execution_count": 19,
     "metadata": {},
     "output_type": "execute_result"
    }
   ],
   "source": [
    "total_documents = len(all_splits)\n",
    "third = total_documents // 3\n",
    "\n",
    "for i, document in enumerate(all_splits):\n",
    "    if i < third:\n",
    "        document.metadata[\"section\"] = \"beginning\"\n",
    "    elif i < 2 * third:\n",
    "        document.metadata[\"section\"] = \"middle\"\n",
    "    else:\n",
    "        document.metadata[\"section\"] = \"end\"\n",
    "\n",
    "\n",
    "all_splits[0].metadata"
   ]
  },
  {
   "cell_type": "code",
   "execution_count": 20,
   "id": "b0149dfe-d7f7-4bc7-a490-9a8b374c4b40",
   "metadata": {},
   "outputs": [
    {
     "name": "stdout",
     "output_type": "stream",
     "text": [
      "['29b9f480-fe11-4d6d-aec9-87731c46ddf7', '50a2a5ee-104d-42ad-8c6b-d0c87e0a1c17', '7bf4aa58-9359-425a-a19b-faecdd56d507', '43734609-42f1-4ac4-a2e8-25a4f607ce7d', 'ebb12a5a-e2d9-4cd6-ad83-bffc3fda0f3d', 'af850459-83a1-469f-a3cc-164a5d42fc1a', '98366076-78be-4c82-b6da-4dc6a0532710', 'fb8c7485-0eca-4d90-bf97-4b62357a52f9', '7682381a-f1c3-439f-b81f-9c67ddbd589f', 'b7d650f2-926c-43d3-9730-e37f946e393b', '9302956a-5baf-4256-af8d-65e80c796105', '86e4270a-aa85-4d27-9b58-cb74013b55d9', '592c9966-281a-4de0-9b41-28d890c5986a', '534d59d9-9aab-4d19-8767-97ced7c89007', '25cfa8a0-68e1-4acd-b202-c7d672a1dd20', 'ce16c210-5f8f-4c01-b84f-5697c9e6fc54', '9ca8d2a1-ad5f-4dca-b612-04ab5b9fb3ba', 'ef848841-03c1-48e8-8230-f6fe51f11222', '0fd18cc4-2c2b-413f-940b-ec5f3cb7089f', '40f78f16-98ce-4c05-8fec-127fac9cb994', '8fcbaa52-2481-4bea-ac3e-9587ad3c1df4', '215b02a9-412e-4119-8dfc-2e22ba1987e6', 'cc846efb-fc4c-4447-b55f-7c27db8ef164', 'dc6b329c-fde5-475e-8a7e-bfca65d6bfa2', 'fa86cf79-dc62-4b7e-a510-fe0e6f0904fb', '05d8f7fc-0872-43c7-a84d-35b11994cab8', '63813ae1-b4a3-444a-94b1-56bce73fafa3', 'df3a4417-138f-4efe-a55c-9c9224400a82', '3295c6bf-8ddd-4a6a-91d8-2aa1da380946', 'b22ceb1c-c4ac-456e-a4d3-b3a975e6881a', '3d0d2a2a-10c7-4621-b011-f03a04ad57f9', '12dd6a9d-2e3f-4bd4-b444-f32bb6808ca9', 'b72e50ce-c263-4ada-91b0-591d44a88518', 'bb8c6bac-3e67-480d-8e06-d585802ea45d', '3d520afc-7f3e-4265-8195-6f357a28008a', 'be1c4722-7326-4cc3-90bf-dbfe6f84487d', '3ca834e4-59b0-4cd8-8aee-2d5e6a18c0df', 'a02faae3-0398-4dea-94cf-2119158cd821', '840e07ba-0be5-4d12-b3b5-c7bfb69fc8bc', 'e63803d7-49ad-4442-8927-1197b6f4fd3a', 'dcbbe868-6635-4f7a-a1b6-c72d25954eaf', 'b128a865-18fd-463c-80f8-4eb85a7b5eb1', 'b10ed8ea-9ca5-4eae-b25b-c038e5d6ac2a', '4bac4932-a945-4228-9fcc-d1868561b525', '29e5896b-0e31-4fd4-9ad6-b3e3f1ebf17d', '3b098ff3-4e61-4848-a38e-a17ab9a74c86', '664a24df-39e5-4bff-90c8-872bde25dbb7', '3922e8ee-a65e-4473-998f-3090c1e52742', 'ed98a312-6a4d-4aae-b90d-90dc56a89e88', '5d76ecae-59eb-4dbc-833f-465cb93961a9', '3fe2e764-4b05-468d-8f5c-176f408bcf36', 'a7e38b5e-060a-4098-8630-83341d47802f', '0f6a63b1-db81-451b-a2ca-e752b1510f49', 'cf07d119-c9e4-4201-952d-e6b779c5fa98', 'b9997b7f-7ffd-4e18-97bc-f7454e8bf05f', '8ab9f915-db98-4456-80af-d5fa6ff8f22b', '7036f753-5ed1-4550-91f7-bfedc3669948', '8b7c8585-9f04-45e7-a017-4b92f4aa7dc3', '7c411876-7de7-432d-93e5-de90c053a4fe', '117855b7-b801-45cc-8aab-08807210e176', 'd8c6561e-8120-49c6-be7c-48a9f18ca9c3', 'a392a121-fc3e-447a-89a9-31c3a4da9c03', '7e630148-0ca3-4936-b11d-b3ec0cb46ac1', '6fac4125-e025-44bb-acac-1958041217a9', 'e1196568-b50c-488e-9d37-699001545abb', '24beb4d1-a853-4191-9f22-f624b1dfb5be']\n"
     ]
    }
   ],
   "source": [
    "vector_store_meta = InMemoryVectorStore(embeddings)\n",
    "res = vector_store_meta.add_documents(all_splits)\n",
    "\n",
    "print(res)"
   ]
  },
  {
   "cell_type": "code",
   "execution_count": 21,
   "id": "869eefa9-1b76-4ed2-acde-53464a6ea42c",
   "metadata": {},
   "outputs": [
    {
     "data": {
      "text/plain": [
       "[Document(id='3295c6bf-8ddd-4a6a-91d8-2aa1da380946', metadata={'source': 'https://lilianweng.github.io/posts/2023-06-23-agent/', 'start_index': 19372, 'section': 'middle'}, page_content=\"(3) Task execution: Expert models execute on the specific tasks and log results.\\nInstruction:\\n\\nWith the input and the inference results, the AI assistant needs to describe the process and results. The previous stages can be formed as - User Input: {{ User Input }}, Task Planning: {{ Tasks }}, Model Selection: {{ Model Assignment }}, Task Execution: {{ Predictions }}. You must first answer the user's request in a straightforward manner. Then describe the task process and show your analysis and model inference results to the user in the first person. If inference results contain a file path, must tell the user the complete file path.\"),\n",
       " Document(id='63813ae1-b4a3-444a-94b1-56bce73fafa3', metadata={'source': 'https://lilianweng.github.io/posts/2023-06-23-agent/', 'start_index': 17803, 'section': 'middle'}, page_content='The AI assistant can parse user input to several tasks: [{\"task\": task, \"id\", task_id, \"dep\": dependency_task_ids, \"args\": {\"text\": text, \"image\": URL, \"audio\": URL, \"video\": URL}}]. The \"dep\" field denotes the id of the previous task which generates a new resource that the current task relies on. A special tag \"-task_id\" refers to the generated text image, audio and video in the dependency task with id as task_id. The task MUST be selected from the following options: {{ Available Task List }}. There is a logical relationship between tasks, please note their order. If the user input can\\'t be parsed, you need to reply empty JSON. Here are several cases for your reference: {{ Demonstrations }}. The chat history is recorded as {{ Chat History }}. From this chat history, you can find the path of the user-mentioned resources for your task planning.'),\n",
       " Document(id='dcbbe868-6635-4f7a-a1b6-c72d25954eaf', metadata={'source': 'https://lilianweng.github.io/posts/2023-06-23-agent/', 'start_index': 27609, 'section': 'middle'}, page_content='GOALS:\\n\\n1. {{user-provided goal 1}}\\n2. {{user-provided goal 2}}\\n3. ...\\n4. ...\\n5. ...\\n\\nConstraints:\\n1. ~4000 word limit for short term memory. Your short term memory is short, so immediately save important information to files.\\n2. If you are unsure how you previously did something or want to recall past events, thinking about similar events will help you remember.\\n3. No user assistance\\n4. Exclusively use the commands listed in double quotes e.g. \"command name\"\\n5. Use subprocesses for commands that will not terminate within a few minutes'),\n",
       " Document(id='4bac4932-a945-4228-9fcc-d1868561b525', metadata={'source': 'https://lilianweng.github.io/posts/2023-06-23-agent/', 'start_index': 29629, 'section': 'middle'}, page_content='Resources:\\n1. Internet access for searches and information gathering.\\n2. Long Term memory management.\\n3. GPT-3.5 powered Agents for delegation of simple tasks.\\n4. File output.\\n\\nPerformance Evaluation:\\n1. Continuously review and analyze your actions to ensure you are performing to the best of your abilities.\\n2. Constructively self-criticize your big-picture behavior constantly.\\n3. Reflect on past decisions and strategies to refine your approach.\\n4. Every command has a cost, so be smart and efficient. Aim to complete tasks in the least number of steps.')]"
      ]
     },
     "execution_count": 21,
     "metadata": {},
     "output_type": "execute_result"
    }
   ],
   "source": [
    "vector_store_meta.search('Task', 'similarity')"
   ]
  },
  {
   "cell_type": "code",
   "execution_count": 24,
   "id": "e2e5d816-acd7-413b-b6af-e73238bfaa31",
   "metadata": {},
   "outputs": [],
   "source": [
    "from typing import Literal\n",
    "\n",
    "from typing_extensions import Annotated\n",
    "\n",
    "\n",
    "class Query(TypedDict):\n",
    "    \"\"\"Search query.\"\"\"\n",
    "\n",
    "    query: Annotated[str, ..., \"Search query to run.\"]\n",
    "    section: Annotated[\n",
    "        Literal[\"beginning\", \"middle\", \"end\", \"any\"],\n",
    "        ...,\n",
    "        \"Section to query.\",\n",
    "    ]"
   ]
  },
  {
   "cell_type": "code",
   "execution_count": 25,
   "id": "57c8dbd4-2664-4d5e-ac90-be83048188a9",
   "metadata": {},
   "outputs": [],
   "source": [
    "class State(TypedDict):\n",
    "    question: str\n",
    "    query: Query\n",
    "    context: List[Document]\n",
    "    answer: str"
   ]
  },
  {
   "cell_type": "code",
   "execution_count": 26,
   "id": "3514d47a-4c62-4cba-ac0a-0263a67d3c7b",
   "metadata": {},
   "outputs": [],
   "source": [
    "analyze_query_system_prompt_template = '''\n",
    "You analyze the query to determine what user wants to know and in which part of the post: beginning, middle or end.\n",
    "Return a query representation with a section that you guessed from the prompt.\n",
    "\n",
    "Here are some examples of queries and desirable answers:\n",
    "\n",
    "example_user: What's the task as defined in the article?\n",
    "example_assistant: {{\"query\": \"task definition\", \"section\": \"beginning\"}}\n",
    "\n",
    "example_user: What does the end of the post say about Task Decomposition?\n",
    "example_assistant: {{\"query\": \"Task Decomposition\", \"section\": \"end\"}}\n",
    "\n",
    "If you're not sure what part the query might refer to, choose \"any\" for the section.\n",
    "'''"
   ]
  },
  {
   "cell_type": "code",
   "execution_count": 27,
   "id": "7c9d75aa-dd19-418b-b892-0d1130084937",
   "metadata": {},
   "outputs": [],
   "source": [
    "from langchain_core.prompts import ChatPromptTemplate\n",
    "\n",
    "analyze_query_prompt = ChatPromptTemplate.from_messages([(\"system\", analyze_query_system_prompt_template), (\"human\", \"{input}\")])"
   ]
  },
  {
   "cell_type": "code",
   "execution_count": 31,
   "id": "3cdc2a45-c708-407d-8592-e4fb83fb83d2",
   "metadata": {},
   "outputs": [],
   "source": [
    "def analyze_query(state: State):\n",
    "    structured_llm = llm.with_structured_output(Query)\n",
    "    few_shots_llm = analyze_query_prompt | structured_llm\n",
    "    query = few_shots_llm.invoke(state[\"question\"])\n",
    "    return {\"query\": query}\n",
    "\n",
    "\n",
    "def retrieve(state: State):\n",
    "    query = state[\"query\"]\n",
    "    retrieved_docs = vector_store_meta.similarity_search(\n",
    "        query[\"query\"],\n",
    "        filter=lambda doc: True if query[\"section\"] == \"any\" else doc.metadata.get(\"section\") == query[\"section\"],\n",
    "    )\n",
    "    return {\"context\": retrieved_docs}\n",
    "\n",
    "\n",
    "def generate(state: State):\n",
    "    docs_content = \"\\n\\n\".join(doc.page_content for doc in state[\"context\"])\n",
    "    messages = prompt.invoke({\"question\": state[\"question\"], \"context\": docs_content})\n",
    "    response = llm.invoke(messages)\n",
    "    return {\"answer\": response.content}\n",
    "\n",
    "\n",
    "graph_builder = StateGraph(State).add_sequence([analyze_query, retrieve, generate])\n",
    "graph_builder.add_edge(START, \"analyze_query\")\n",
    "graph = graph_builder.compile()"
   ]
  },
  {
   "cell_type": "code",
   "execution_count": 32,
   "id": "536badb0-44d4-47c8-b71e-f667561aff0c",
   "metadata": {},
   "outputs": [
    {
     "data": {
      "image/png": "[encoded data removed]",
      "text/plain": [
       "<IPython.core.display.Image object>"
      ]
     },
     "metadata": {},
     "output_type": "display_data"
    }
   ],
   "source": [
    "display(Image(graph.get_graph().draw_mermaid_png()))"
   ]
  },
  {
   "cell_type": "code",
   "execution_count": 33,
   "id": "92897584-28d6-4c62-bd06-a6985bef32f2",
   "metadata": {},
   "outputs": [
    {
     "name": "stdout",
     "output_type": "stream",
     "text": [
      "{'analyze_query': {'query': {'query': 'Task', 'section': 'beginning'}}}\n",
      "\n",
      "----------------\n",
      "\n",
      "{'retrieve': {'context': [Document(id='43734609-42f1-4ac4-a2e8-25a4f607ce7d', metadata={'source': 'https://lilianweng.github.io/posts/2023-06-23-agent/', 'start_index': 2192, 'section': 'beginning'}, page_content='Tree of Thoughts (Yao et al. 2023) extends CoT by exploring multiple reasoning possibilities at each step. It first decomposes the problem into multiple thought steps and generates multiple thoughts per step, creating a tree structure. The search process can be BFS (breadth-first search) or DFS (depth-first search) with each state evaluated by a classifier (via a prompt) or majority vote.\\nTask decomposition can be done (1) by LLM with simple prompting like \"Steps for XYZ.\\\\n1.\", \"What are the subgoals for achieving XYZ?\", (2) by using task-specific instructions; e.g. \"Write a story outline.\" for writing a novel, or (3) with human inputs.'), Document(id='7bf4aa58-9359-425a-a19b-faecdd56d507', metadata={'source': 'https://lilianweng.github.io/posts/2023-06-23-agent/', 'start_index': 1585, 'section': 'beginning'}, page_content='Fig. 1. Overview of a LLM-powered autonomous agent system.\\nComponent One: Planning#\\nA complicated task usually involves many steps. An agent needs to know what they are and plan ahead.\\nTask Decomposition#\\nChain of thought (CoT; Wei et al. 2022) has become a standard prompting technique for enhancing model performance on complex tasks. The model is instructed to “think step by step” to utilize more test-time computation to decompose hard tasks into smaller and simpler steps. CoT transforms big tasks into multiple manageable tasks and shed lights into an interpretation of the model’s thinking process.'), Document(id='ebb12a5a-e2d9-4cd6-ad83-bffc3fda0f3d', metadata={'source': 'https://lilianweng.github.io/posts/2023-06-23-agent/', 'start_index': 2837, 'section': 'beginning'}, page_content='Another quite distinct approach, LLM+P (Liu et al. 2023), involves relying on an external classical planner to do long-horizon planning. This approach utilizes the Planning Domain Definition Language (PDDL) as an intermediate interface to describe the planning problem. In this process, LLM (1) translates the problem into “Problem PDDL”, then (2) requests a classical planner to generate a PDDL plan based on an existing “Domain PDDL”, and finally (3) translates the PDDL plan back into natural language. Essentially, the planning step is outsourced to an external tool, assuming the availability of domain-specific PDDL and a suitable planner which is common in certain robotic setups but not in many other domains.\\nSelf-Reflection#\\nSelf-reflection is a vital aspect that allows autonomous agents to improve iteratively by refining past action decisions and correcting previous mistakes. It plays a crucial role in real-world tasks where trial and error are inevitable.'), Document(id='98366076-78be-4c82-b6da-4dc6a0532710', metadata={'source': 'https://lilianweng.github.io/posts/2023-06-23-agent/', 'start_index': 4317, 'section': 'beginning'}, page_content='Fig. 2.  Examples of reasoning trajectories for knowledge-intensive tasks (e.g. HotpotQA, FEVER) and decision-making tasks (e.g. AlfWorld Env, WebShop). (Image source: Yao et al. 2023).\\nIn both experiments on knowledge-intensive tasks and decision-making tasks, ReAct works better than the Act-only baseline where Thought: … step is removed.\\nReflexion (Shinn & Labash 2023) is a framework to equip agents with dynamic memory and self-reflection capabilities to improve reasoning skills. Reflexion has a standard RL setup, in which the reward model provides a simple binary reward and the action space follows the setup in ReAct where the task-specific action space is augmented with language to enable complex reasoning steps. After each action $a_t$, the agent computes a heuristic $h_t$ and optionally may decide to reset the environment to start a new trial depending on the self-reflection results.')]}}\n",
      "\n",
      "----------------\n",
      "\n",
      "{'generate': {'answer': 'The post discusses Task Decomposition, which is the process of breaking down a complicated task into smaller, manageable steps. This can be done using various methods, such as simple prompting, task-specific instructions, or human inputs.'}}\n",
      "\n",
      "----------------\n",
      "\n"
     ]
    }
   ],
   "source": [
    "# We can test our implementation by specifically asking for context from the end of the post. Note that the model includes different information in its answer.\n",
    "\n",
    "for step in graph.stream(\n",
    "    {\"question\": \"What does the post say about Task?\"},\n",
    "    stream_mode=\"updates\",\n",
    "):\n",
    "    print(f\"{step}\\n\\n----------------\\n\")"
   ]
  },
  {
   "cell_type": "code",
   "execution_count": 34,
   "id": "e0f7d563-b6b1-4fc1-97de-c02ce9f3acc3",
   "metadata": {},
   "outputs": [
    {
     "data": {
      "text/plain": [
       "{'source': 'https://lilianweng.github.io/posts/2023-06-23-agent/',\n",
       " 'start_index': 42189,\n",
       " 'section': 'end'}"
      ]
     },
     "execution_count": 34,
     "metadata": {},
     "output_type": "execute_result"
    }
   ],
   "source": [
    "all_splits[-1].metadata"
   ]
  },
  {
   "cell_type": "code",
   "execution_count": 35,
   "id": "49887093-131f-47ff-9606-1af568c1d825",
   "metadata": {},
   "outputs": [
    {
     "name": "stdout",
     "output_type": "stream",
     "text": [
      "Context: [Document(id='b6521b24-a99f-486a-9d15-74cdcc440ed4', metadata={'source': 'https://lilianweng.github.io/posts/2023-06-23-agent/', 'start_index': 2192}, page_content='Tree of Thoughts (Yao et al. 2023) extends CoT by exploring multiple reasoning possibilities at each step. It first decomposes the problem into multiple thought steps and generates multiple thoughts per step, creating a tree structure. The search process can be BFS (breadth-first search) or DFS (depth-first search) with each state evaluated by a classifier (via a prompt) or majority vote.\\nTask decomposition can be done (1) by LLM with simple prompting like \"Steps for XYZ.\\\\n1.\", \"What are the subgoals for achieving XYZ?\", (2) by using task-specific instructions; e.g. \"Write a story outline.\" for writing a novel, or (3) with human inputs.'), Document(id='f42b7d31-334a-4f41-8408-7484566eaf2b', metadata={'source': 'https://lilianweng.github.io/posts/2023-06-23-agent/', 'start_index': 19372}, page_content=\"(3) Task execution: Expert models execute on the specific tasks and log results.\\nInstruction:\\n\\nWith the input and the inference results, the AI assistant needs to describe the process and results. The previous stages can be formed as - User Input: {{ User Input }}, Task Planning: {{ Tasks }}, Model Selection: {{ Model Assignment }}, Task Execution: {{ Predictions }}. You must first answer the user's request in a straightforward manner. Then describe the task process and show your analysis and model inference results to the user in the first person. If inference results contain a file path, must tell the user the complete file path.\"), Document(id='8d081ee5-1fc3-47f6-af11-4869e9303be3', metadata={'source': 'https://lilianweng.github.io/posts/2023-06-23-agent/', 'start_index': 17413}, page_content='Fig. 11. Illustration of how HuggingGPT works. (Image source: Shen et al. 2023)\\nThe system comprises of 4 stages:\\n(1) Task planning: LLM works as the brain and parses the user requests into multiple tasks. There are four attributes associated with each task: task type, ID, dependencies, and arguments. They use few-shot examples to guide LLM to do task parsing and planning.\\nInstruction:'), Document(id='39c6c0bc-5659-465a-917f-b978ba8307e1', metadata={'source': 'https://lilianweng.github.io/posts/2023-06-23-agent/', 'start_index': 39220}, page_content='Finite context length: The restricted context capacity limits the inclusion of historical information, detailed instructions, API call context, and responses. The design of the system has to work with this limited communication bandwidth, while mechanisms like self-reflection to learn from past mistakes would benefit a lot from long or infinite context windows. Although vector stores and retrieval can provide access to a larger knowledge pool, their representation power is not as powerful as full attention.\\n\\n\\nChallenges in long-term planning and task decomposition: Planning over a lengthy history and effectively exploring the solution space remain challenging. LLMs struggle to adjust plans when faced with unexpected errors, making them less robust compared to humans who learn from trial and error.')]\n",
      "\n",
      "\n",
      "Answer: Task Decomposition is a process where the problem is broken down into multiple thought steps, generating multiple thoughts per step, creating a tree structure. It can be done using Large Language Models (LLMs) with simple prompting, task-specific instructions, or human inputs. This process allows for exploration of multiple reasoning possibilities at each step.\n"
     ]
    }
   ],
   "source": [
    "res = graph.invoke({\"question\": \"What is Task Decomposition?\"})\n",
    "\n",
    "print(f'Context: {result[\"context\"]}\\n\\n')\n",
    "print(f'Answer: {result[\"answer\"]}')"
   ]
  },
  {
   "cell_type": "code",
   "execution_count": 37,
   "id": "9edff442-9ce2-4363-9cbe-bd195382f557",
   "metadata": {},
   "outputs": [
    {
     "name": "stdout",
     "output_type": "stream",
     "text": [
      "{'analyze_query': {'query': {'query': 'Task Decomposition', 'section': 'end'}}}\n",
      "\n",
      "----------------\n",
      "\n",
      "{'retrieve': {'context': [Document(id='a392a121-fc3e-447a-89a9-31c3a4da9c03', metadata={'source': 'https://lilianweng.github.io/posts/2023-06-23-agent/', 'start_index': 39220, 'section': 'end'}, page_content='Finite context length: The restricted context capacity limits the inclusion of historical information, detailed instructions, API call context, and responses. The design of the system has to work with this limited communication bandwidth, while mechanisms like self-reflection to learn from past mistakes would benefit a lot from long or infinite context windows. Although vector stores and retrieval can provide access to a larger knowledge pool, their representation power is not as powerful as full attention.\\n\\n\\nChallenges in long-term planning and task decomposition: Planning over a lengthy history and effectively exploring the solution space remain challenging. LLMs struggle to adjust plans when faced with unexpected errors, making them less robust compared to humans who learn from trial and error.'), Document(id='6fac4125-e025-44bb-acac-1958041217a9', metadata={'source': 'https://lilianweng.github.io/posts/2023-06-23-agent/', 'start_index': 40601, 'section': 'end'}, page_content='Or\\n@article{weng2023agent,\\n  title   = \"LLM-powered Autonomous Agents\",\\n  author  = \"Weng, Lilian\",\\n  journal = \"lilianweng.github.io\",\\n  year    = \"2023\",\\n  month   = \"Jun\",\\n  url     = \"https://lilianweng.github.io/posts/2023-06-23-agent/\"\\n}\\nReferences#\\n[1] Wei et al. “Chain of thought prompting elicits reasoning in large language models.” NeurIPS 2022\\n[2] Yao et al. “Tree of Thoughts: Dliberate Problem Solving with Large Language Models.” arXiv preprint arXiv:2305.10601 (2023).\\n[3] Liu et al. “Chain of Hindsight Aligns Language Models with Feedback\\n“ arXiv preprint arXiv:2302.02676 (2023).\\n[4] Liu et al. “LLM+P: Empowering Large Language Models with Optimal Planning Proficiency” arXiv preprint arXiv:2304.11477 (2023).\\n[5] Yao et al. “ReAct: Synergizing reasoning and acting in language models.” ICLR 2023.\\n[6] Google Blog. “Announcing ScaNN: Efficient Vector Similarity Search” July 28, 2020.\\n[7] https://chat.openai.com/share/46ff149e-a4c7-4dd7-a800-fc4a642ea389'), Document(id='3b098ff3-4e61-4848-a38e-a17ab9a74c86', metadata={'source': 'https://lilianweng.github.io/posts/2023-06-23-agent/', 'start_index': 30951, 'section': 'end'}, page_content='Here are a sample conversation for task clarification sent to OpenAI ChatCompletion endpoint used by GPT-Engineer. The user inputs are wrapped in {{user input text}}.\\n[\\n  {\\n    \"role\": \"system\",\\n    \"content\": \"You will read instructions and not carry them out, only seek to clarify them.\\\\nSpecifically you will first summarise a list of super short bullets of areas that need clarification.\\\\nThen you will pick one clarifying question, and wait for an answer from the user.\\\\n\"\\n  },\\n  {\\n    \"role\": \"user\",\\n    \"content\": \"We are writing {{a Super Mario game in python. MVC components split in separate files. Keyboard control.}}\\\\n\"\\n  },\\n  {\\n    \"role\": \"assistant\",'), Document(id='e1196568-b50c-488e-9d37-699001545abb', metadata={'source': 'https://lilianweng.github.io/posts/2023-06-23-agent/', 'start_index': 41420, 'section': 'end'}, page_content='[6] Google Blog. “Announcing ScaNN: Efficient Vector Similarity Search” July 28, 2020.\\n[7] https://chat.openai.com/share/46ff149e-a4c7-4dd7-a800-fc4a642ea389\\n[8] Shinn & Labash. “Reflexion: an autonomous agent with dynamic memory and self-reflection” arXiv preprint arXiv:2303.11366 (2023).\\n[9] Laskin et al. “In-context Reinforcement Learning with Algorithm Distillation” ICLR 2023.\\n[10] Karpas et al. “MRKL Systems A modular, neuro-symbolic architecture that combines large language models, external knowledge sources and discrete reasoning.” arXiv preprint arXiv:2205.00445 (2022).\\n[11] Nakano et al. “Webgpt: Browser-assisted question-answering with human feedback.” arXiv preprint arXiv:2112.09332 (2021).\\n[12] Parisi et al. “TALM: Tool Augmented Language Models”\\n[13] Schick et al. “Toolformer: Language Models Can Teach Themselves to Use Tools.” arXiv preprint arXiv:2302.04761 (2023).\\n[14] Weaviate Blog. Why is Vector Search so fast? Sep 13, 2022.')]}}\n",
      "\n",
      "----------------\n",
      "\n",
      "{'generate': {'answer': \"I don't know. The provided context does not mention Task Decomposition.\"}}\n",
      "\n",
      "----------------\n",
      "\n"
     ]
    }
   ],
   "source": [
    "for step in graph.stream(\n",
    "    {\"question\": \"What does the end of the post say about Task Decomposition?\"},\n",
    "    stream_mode=\"updates\",\n",
    "):\n",
    "    print(f\"{step}\\n\\n----------------\\n\")"
   ]
  },
  {
   "cell_type": "code",
   "execution_count": 39,
   "id": "394a9dc9-df06-42e6-8da3-60d9685dd02e",
   "metadata": {},
   "outputs": [
    {
     "name": "stdout",
     "output_type": "stream",
     "text": [
      "{'analyze_query': {'query': {'query': 'Announcing ScaNN: Efficient Vector Similarity Search', 'section': 'any'}}}\n",
      "\n",
      "----------------\n",
      "\n",
      "{'retrieve': {'context': [Document(id='ef848841-03c1-48e8-8230-f6fe51f11222', metadata={'source': 'https://lilianweng.github.io/posts/2023-06-23-agent/', 'start_index': 12088, 'section': 'beginning'}, page_content='Maximum Inner Product Search (MIPS)#\\nThe external memory can alleviate the restriction of finite attention span.  A standard practice is to save the embedding representation of information into a vector store database that can support fast maximum inner-product search (MIPS). To optimize the retrieval speed, the common choice is the approximate nearest neighbors (ANN)\\u200b algorithm to return approximately top k nearest neighbors to trade off a little accuracy lost for a huge speedup.\\nA couple common choices of ANN algorithms for fast MIPS:'), Document(id='8fcbaa52-2481-4bea-ac3e-9587ad3c1df4', metadata={'source': 'https://lilianweng.github.io/posts/2023-06-23-agent/', 'start_index': 14166, 'section': 'beginning'}, page_content='FAISS (Facebook AI Similarity Search): It operates on the assumption that in high dimensional space, distances between nodes follow a Gaussian distribution and thus there should exist clustering of data points. FAISS applies vector quantization by partitioning the vector space into clusters and then refining the quantization within clusters. Search first looks for cluster candidates with coarse quantization and then further looks into each cluster with finer quantization.\\nScaNN (Scalable Nearest Neighbors): The main innovation in ScaNN is anisotropic vector quantization. It quantizes a data point $x_i$ to $\\\\tilde{x}_i$ such that the inner product $\\\\langle q, x_i \\\\rangle$ is as similar to the original distance of $\\\\angle q, \\\\tilde{x}_i$ as possible, instead of picking the closet quantization centroid points.'), Document(id='e1196568-b50c-488e-9d37-699001545abb', metadata={'source': 'https://lilianweng.github.io/posts/2023-06-23-agent/', 'start_index': 41420, 'section': 'end'}, page_content='[6] Google Blog. “Announcing ScaNN: Efficient Vector Similarity Search” July 28, 2020.\\n[7] https://chat.openai.com/share/46ff149e-a4c7-4dd7-a800-fc4a642ea389\\n[8] Shinn & Labash. “Reflexion: an autonomous agent with dynamic memory and self-reflection” arXiv preprint arXiv:2303.11366 (2023).\\n[9] Laskin et al. “In-context Reinforcement Learning with Algorithm Distillation” ICLR 2023.\\n[10] Karpas et al. “MRKL Systems A modular, neuro-symbolic architecture that combines large language models, external knowledge sources and discrete reasoning.” arXiv preprint arXiv:2205.00445 (2022).\\n[11] Nakano et al. “Webgpt: Browser-assisted question-answering with human feedback.” arXiv preprint arXiv:2112.09332 (2021).\\n[12] Parisi et al. “TALM: Tool Augmented Language Models”\\n[13] Schick et al. “Toolformer: Language Models Can Teach Themselves to Use Tools.” arXiv preprint arXiv:2302.04761 (2023).\\n[14] Weaviate Blog. Why is Vector Search so fast? Sep 13, 2022.'), Document(id='40f78f16-98ce-4c05-8fec-127fac9cb994', metadata={'source': 'https://lilianweng.github.io/posts/2023-06-23-agent/', 'start_index': 13393, 'section': 'beginning'}, page_content='HNSW (Hierarchical Navigable Small World): It is inspired by the idea of small world networks where most nodes can be reached by any other nodes within a small number of steps; e.g. “six degrees of separation” feature of social networks. HNSW builds hierarchical layers of these small-world graphs, where the bottom layers contain the actual data points. The layers in the middle create shortcuts to speed up search. When performing a search, HNSW starts from a random node in the top layer and navigates towards the target. When it can’t get any closer, it moves down to the next layer, until it reaches the bottom layer. Each move in the upper layers can potentially cover a large distance in the data space, and each move in the lower layers refines the search quality.')]}}\n",
      "\n",
      "----------------\n",
      "\n",
      "{'generate': {'answer': 'Here is the link to the \"Announcing ScaNN: Efficient Vector Similarity Search\" article:\\n\\nhttps://chat.openai.com/share/46ff149e-a4c7-4dd7-a800-fc4a642ea389'}}\n",
      "\n",
      "----------------\n",
      "\n"
     ]
    }
   ],
   "source": [
    "for step in graph.stream(\n",
    "    {\"question\": \"Give me the link to “Announcing ScaNN: Efficient Vector Similarity Search” article at the end of the post?\"},\n",
    "    stream_mode=\"updates\",\n",
    "):\n",
    "    print(f\"{step}\\n\\n----------------\\n\")"
   ]
  },
  {
   "cell_type": "code",
   "execution_count": 40,
   "id": "7ebeac8d-9b48-49a6-9841-bfe9e9e2ca61",
   "metadata": {},
   "outputs": [
    {
     "name": "stdout",
     "output_type": "stream",
     "text": [
      "{'analyze_query': {'query': {'query': 'Task Decomposition challenges', 'section': 'end'}}}\n",
      "\n",
      "----------------\n",
      "\n",
      "{'retrieve': {'context': [Document(id='a392a121-fc3e-447a-89a9-31c3a4da9c03', metadata={'source': 'https://lilianweng.github.io/posts/2023-06-23-agent/', 'start_index': 39220, 'section': 'end'}, page_content='Finite context length: The restricted context capacity limits the inclusion of historical information, detailed instructions, API call context, and responses. The design of the system has to work with this limited communication bandwidth, while mechanisms like self-reflection to learn from past mistakes would benefit a lot from long or infinite context windows. Although vector stores and retrieval can provide access to a larger knowledge pool, their representation power is not as powerful as full attention.\\n\\n\\nChallenges in long-term planning and task decomposition: Planning over a lengthy history and effectively exploring the solution space remain challenging. LLMs struggle to adjust plans when faced with unexpected errors, making them less robust compared to humans who learn from trial and error.'), Document(id='d8c6561e-8120-49c6-be7c-48a9f18ca9c3', metadata={'source': 'https://lilianweng.github.io/posts/2023-06-23-agent/', 'start_index': 39085, 'section': 'end'}, page_content='}\\n]\\nChallenges#\\nAfter going through key ideas and demos of building LLM-centered agents, I start to see a couple common limitations:'), Document(id='6fac4125-e025-44bb-acac-1958041217a9', metadata={'source': 'https://lilianweng.github.io/posts/2023-06-23-agent/', 'start_index': 40601, 'section': 'end'}, page_content='Or\\n@article{weng2023agent,\\n  title   = \"LLM-powered Autonomous Agents\",\\n  author  = \"Weng, Lilian\",\\n  journal = \"lilianweng.github.io\",\\n  year    = \"2023\",\\n  month   = \"Jun\",\\n  url     = \"https://lilianweng.github.io/posts/2023-06-23-agent/\"\\n}\\nReferences#\\n[1] Wei et al. “Chain of thought prompting elicits reasoning in large language models.” NeurIPS 2022\\n[2] Yao et al. “Tree of Thoughts: Dliberate Problem Solving with Large Language Models.” arXiv preprint arXiv:2305.10601 (2023).\\n[3] Liu et al. “Chain of Hindsight Aligns Language Models with Feedback\\n“ arXiv preprint arXiv:2302.02676 (2023).\\n[4] Liu et al. “LLM+P: Empowering Large Language Models with Optimal Planning Proficiency” arXiv preprint arXiv:2304.11477 (2023).\\n[5] Yao et al. “ReAct: Synergizing reasoning and acting in language models.” ICLR 2023.\\n[6] Google Blog. “Announcing ScaNN: Efficient Vector Similarity Search” July 28, 2020.\\n[7] https://chat.openai.com/share/46ff149e-a4c7-4dd7-a800-fc4a642ea389'), Document(id='3b098ff3-4e61-4848-a38e-a17ab9a74c86', metadata={'source': 'https://lilianweng.github.io/posts/2023-06-23-agent/', 'start_index': 30951, 'section': 'end'}, page_content='Here are a sample conversation for task clarification sent to OpenAI ChatCompletion endpoint used by GPT-Engineer. The user inputs are wrapped in {{user input text}}.\\n[\\n  {\\n    \"role\": \"system\",\\n    \"content\": \"You will read instructions and not carry them out, only seek to clarify them.\\\\nSpecifically you will first summarise a list of super short bullets of areas that need clarification.\\\\nThen you will pick one clarifying question, and wait for an answer from the user.\\\\n\"\\n  },\\n  {\\n    \"role\": \"user\",\\n    \"content\": \"We are writing {{a Super Mario game in python. MVC components split in separate files. Keyboard control.}}\\\\n\"\\n  },\\n  {\\n    \"role\": \"assistant\",')]}}\n",
      "\n",
      "----------------\n",
      "\n",
      "{'generate': {'answer': 'The challenges to Task Decomposition mentioned at the end of the article are planning over a lengthy history and effectively exploring the solution space, which remain challenging for LLMs due to their struggle to adjust plans when faced with unexpected errors.'}}\n",
      "\n",
      "----------------\n",
      "\n"
     ]
    }
   ],
   "source": [
    "for step in graph.stream(\n",
    "    {\"question\": \"What are the challenges to Task Decomposition mentioned at the end of the article?\"},\n",
    "    stream_mode=\"updates\",\n",
    "):\n",
    "    print(f\"{step}\\n\\n----------------\\n\")"
   ]
  },
  {
   "cell_type": "code",
   "execution_count": null,
   "id": "fb7351f0-c212-4d46-9146-ec677cf8bb9b",
   "metadata": {},
   "outputs": [],
   "source": []
  }
 ],
 "metadata": {
  "kernelspec": {
   "display_name": "Python 3 (ipykernel)",
   "language": "python",
   "name": "python3"
  },
  "language_info": {
   "codemirror_mode": {
    "name": "ipython",
    "version": 3
   },
   "file_extension": ".py",
   "mimetype": "text/x-python",
   "name": "python",
   "nbconvert_exporter": "python",
   "pygments_lexer": "ipython3",
   "version": "3.11.5"
  }
 },
 "nbformat": 4,
 "nbformat_minor": 5
}
